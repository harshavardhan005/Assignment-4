{
 "cells": [
  {
   "cell_type": "code",
   "execution_count": 1,
   "metadata": {},
   "outputs": [
    {
     "name": "stdout",
     "output_type": "stream",
     "text": [
      "Area of the triangle is: 21.908902\n",
      "Semi perimeter of triangle is 10 with the sides 8, 4, 6\n"
     ]
    }
   ],
   "source": [
    "class triangle:\n",
    "    def __init__(self,s,a,b,c):\n",
    "        self.semiperimeter = s\n",
    "        self.side_a = a\n",
    "        self.side_b = b\n",
    "        self.side_c = c\n",
    "        \n",
    "    \n",
    "    def area_of_triangle(self):\n",
    "        return \"Area of the triangle is: {:f}\" . format ((self.semiperimeter*(self.semiperimeter-self.side_a)\n",
    "                *(self.semiperimeter-self.side_b)*(self.semiperimeter-self.side_c)) ** 0.5)\n",
    "    \n",
    "    def __str__(self):\n",
    "               return \"Semi perimeter of triangle is %d with the sides %d, %d, %d\"% (self.semiperimeter,\n",
    "                                                                                     self.side_a,\n",
    "                                                                                     self.side_b,\n",
    "                                                                                     self.side_c)\n",
    "#result\n",
    "tri=triangle(10,8,4,6)\n",
    "print(tri.area_of_triangle())\n",
    "print(tri)"
   ]
  },
  {
   "cell_type": "code",
   "execution_count": 2,
   "metadata": {},
   "outputs": [
    {
     "name": "stdout",
     "output_type": "stream",
     "text": [
      "['dbrrdf', 'cvedc', 'cvegv']\n"
     ]
    }
   ],
   "source": [
    "def filter_long_words(lin, n):\n",
    "    long_words = []\n",
    "    for i in lin:\n",
    "        if len(i) > n:\n",
    "            long_words.append(i)\n",
    "        else:\n",
    "            pass\n",
    "    return long_words\n",
    "\n",
    "#result\n",
    "A = ['were','wew','fggr','dbrrdf','cvedc','cvegv']\n",
    "print(filter_long_words(A,4))\n",
    "        "
   ]
  },
  {
   "cell_type": "code",
   "execution_count": 3,
   "metadata": {},
   "outputs": [
    {
     "name": "stdout",
     "output_type": "stream",
     "text": [
      "length of the world [8, 5, 4, 7, 5]\n"
     ]
    }
   ],
   "source": [
    "def length_of_the_words(lin):\n",
    "    words_len = []\n",
    "    for i in lin:\n",
    "        words_len.append(len(i))\n",
    "    return words_len\n",
    "\n",
    "#result\n",
    "B = ['efcscewf','affas','cbtf','bytk5tf','sfvr3']\n",
    "print ('length of the world',length_of_the_words(B))"
   ]
  },
  {
   "cell_type": "code",
   "execution_count": 4,
   "metadata": {},
   "outputs": [
    {
     "data": {
      "text/plain": [
       "False"
      ]
     },
     "execution_count": 4,
     "metadata": {},
     "output_type": "execute_result"
    }
   ],
   "source": [
    "def vowels_finder(lis):\n",
    "    vowels = [\"a\",\"e\",\"i\",\"o\",\"u\"]\n",
    "    if type(lis) == str and len(lis) == 1:\n",
    "        if lis in vowels:\n",
    "            return True\n",
    "        else:\n",
    "            return False\n",
    "    else:\n",
    "        print(\"input is either not str or len of str is greater than 1\")\n",
    "\n",
    "#result\n",
    "vowels_finder(\"w\")"
   ]
  }
 ],
 "metadata": {
  "kernelspec": {
   "display_name": "Python 3",
   "language": "python",
   "name": "python3"
  },
  "language_info": {
   "codemirror_mode": {
    "name": "ipython",
    "version": 3
   },
   "file_extension": ".py",
   "mimetype": "text/x-python",
   "name": "python",
   "nbconvert_exporter": "python",
   "pygments_lexer": "ipython3",
   "version": "3.7.6"
  }
 },
 "nbformat": 4,
 "nbformat_minor": 4
}
